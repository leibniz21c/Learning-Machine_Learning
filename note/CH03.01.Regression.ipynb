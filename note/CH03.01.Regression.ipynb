{
 "metadata": {
  "language_info": {
   "codemirror_mode": {
    "name": "ipython",
    "version": 3
   },
   "file_extension": ".py",
   "mimetype": "text/x-python",
   "name": "python",
   "nbconvert_exporter": "python",
   "pygments_lexer": "ipython3",
   "version": "3.8.2-final"
  },
  "orig_nbformat": 2,
  "kernelspec": {
   "name": "python3",
   "display_name": "Python 3.8.2 64-bit",
   "metadata": {
    "interpreter": {
     "hash": "5edc29c2ed010d6458d71a83433b383a96a8cbd3efe8531bc90c4b8a5b8bcec9"
    }
   }
  }
 },
 "nbformat": 4,
 "nbformat_minor": 2,
 "cells": [
  {
   "source": [
    "# Chapter.03 Regression\n",
    "---"
   ],
   "cell_type": "markdown",
   "metadata": {}
  },
  {
   "source": [
    "### 3.1. Regressive and approximated models\n",
    "3.1.1. General regressive model\n",
    "\n",
    "<img src=\"./res/ch03/fig_3_1.png\" width=\"700\" height=\"200\"><br>\n",
    "<div align=\"center\">\n",
    "  Figure.3.1.1\n",
    "</div>\n",
    "<br>"
   ],
   "cell_type": "markdown",
   "metadata": {}
  },
  {
   "source": [
    "3.1.2. Approximated model\n",
    "\n",
    "<img src=\"./res/ch03/fig_3_2.png\" width=\"700\" height=\"110\"><br>\n",
    "<div align=\"center\">\n",
    "  Figure.3.1.2\n",
    "</div>\n",
    "<br>\n",
    "\n",
    "I want to find a function $\\hat{f}(\\mathbf{x}; D)$ that approximates the true function $f(\\mathbf{x})$ as well as possible in terms of the mean square error (MSE) between them, by means of some learning algorithm based on a training dataset (sample)"
   ],
   "cell_type": "markdown",
   "metadata": {}
  }
 ]
}