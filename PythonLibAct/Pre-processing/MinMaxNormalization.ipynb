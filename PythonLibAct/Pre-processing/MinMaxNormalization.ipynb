{
 "metadata": {
  "language_info": {
   "codemirror_mode": {
    "name": "ipython",
    "version": 3
   },
   "file_extension": ".py",
   "mimetype": "text/x-python",
   "name": "python",
   "nbconvert_exporter": "python",
   "pygments_lexer": "ipython3",
   "version": "3.7.3-final"
  },
  "orig_nbformat": 2,
  "kernelspec": {
   "name": "Python 3.7.3 64-bit",
   "display_name": "Python 3.7.3 64-bit",
   "metadata": {
    "interpreter": {
     "hash": "31f2aee4e71d21fbe5cf8b01ff0e069b9275f58929596ceb00d14d90e3e16cd6"
    }
   }
  }
 },
 "nbformat": 4,
 "nbformat_minor": 2,
 "cells": [
  {
   "source": [
    "#\n",
    "#       2020.10.04\n",
    "#       Heesung Yang\n",
    "#       Pre-processing : Min-Max Normalization\n",
    "#"
   ],
   "cell_type": "code",
   "metadata": {},
   "execution_count": 1,
   "outputs": []
  },
  {
   "cell_type": "code",
   "execution_count": 2,
   "metadata": {},
   "outputs": [],
   "source": [
    "from sklearn import preprocessing\n",
    "import numpy as np"
   ]
  },
  {
   "cell_type": "code",
   "execution_count": 5,
   "metadata": {
    "tags": []
   },
   "outputs": [
    {
     "output_type": "stream",
     "name": "stdout",
     "text": "[[ 1. -1.  4.]\n [ 2.  0.  0.]\n [ 0.  1. -1.]]\n"
    }
   ],
   "source": [
    "X_train = np.array([[1., -1., 4.],\n",
    "                    [2., 0., 0.],\n",
    "                    [0., 1., -1]])\n",
    "print(X_train)"
   ]
  },
  {
   "cell_type": "code",
   "execution_count": 10,
   "metadata": {
    "tags": []
   },
   "outputs": [
    {
     "output_type": "stream",
     "name": "stdout",
     "text": "[[ 0.  -1.   1. ]\n [ 1.   0.  -0.6]\n [-1.   1.  -1. ]]\n"
    }
   ],
   "source": [
    "# Method.1\n",
    "X_minmax2 = preprocessing.minmax_scale(X_train, feature_range=(-1,1), axis=0)\n",
    "print(X_minmax2)"
   ]
  },
  {
   "cell_type": "code",
   "execution_count": 9,
   "metadata": {
    "tags": []
   },
   "outputs": [
    {
     "output_type": "stream",
     "name": "stdout",
     "text": "[[0.5 0.  1. ]\n [1.  0.5 0.2]\n [0.  1.  0. ]]\n"
    }
   ],
   "source": [
    "# Method.2\n",
    "min_max_scalar = preprocessing.MinMaxScaler()\n",
    "X_minmax = min_max_scalar.fit_transform(X_train)\n",
    "print(X_minmax)"
   ]
  },
  {
   "cell_type": "code",
   "execution_count": null,
   "metadata": {},
   "outputs": [],
   "source": []
  }
 ]
}