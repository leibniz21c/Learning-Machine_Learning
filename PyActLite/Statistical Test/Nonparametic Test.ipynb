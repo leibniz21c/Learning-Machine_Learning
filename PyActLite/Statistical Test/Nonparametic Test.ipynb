{
 "metadata": {
  "language_info": {
   "codemirror_mode": {
    "name": "ipython",
    "version": 3
   },
   "file_extension": ".py",
   "mimetype": "text/x-python",
   "name": "python",
   "nbconvert_exporter": "python",
   "pygments_lexer": "ipython3",
   "version": "3.7.3-final"
  },
  "orig_nbformat": 2,
  "kernelspec": {
   "name": "Python 3.7.3 64-bit",
   "display_name": "Python 3.7.3 64-bit",
   "metadata": {
    "interpreter": {
     "hash": "31f2aee4e71d21fbe5cf8b01ff0e069b9275f58929596ceb00d14d90e3e16cd6"
    }
   }
  }
 },
 "nbformat": 4,
 "nbformat_minor": 2,
 "cells": [
  {
   "cell_type": "code",
   "execution_count": 1,
   "metadata": {},
   "outputs": [],
   "source": [
    "#\n",
    "#\n",
    "#       2020.10.09\n",
    "#       Heesung Yangs\n",
    "#       Statistical test : Nonparametric Test \n",
    "#\n",
    "#"
   ]
  },
  {
   "cell_type": "code",
   "execution_count": 2,
   "metadata": {},
   "outputs": [],
   "source": [
    "import scipy.stats as sst\n",
    "import numpy as np"
   ]
  },
  {
   "cell_type": "code",
   "execution_count": 3,
   "metadata": {},
   "outputs": [
    {
     "output_type": "stream",
     "name": "stdout",
     "text": [
      "data1: mean = 50.303 stdv = 4.426\ndata2: mean = 51.764 stdv = 4.660\n"
     ]
    }
   ],
   "source": [
    "np.random.seed(1)\n",
    "\n",
    "# Generate Two sets of univariate observations\n",
    "data1 = 5 * np.random.randn(100) + 50  # 분산 25, 평균 50 go go\n",
    "data2 = 5 * np.random.randn(100) + 51\n",
    "\n",
    "print('data1: mean = %.3f stdv = %.3f' % (np.mean(data1), np.std(data1)))\n",
    "print('data2: mean = %.3f stdv = %.3f' % (np.mean(data2), np.std(data2)))"
   ]
  },
  {
   "cell_type": "code",
   "execution_count": 5,
   "metadata": {},
   "outputs": [
    {
     "output_type": "stream",
     "name": "stdout",
     "text": [
      "t-Test =======================> Statistics = -2.262, p = 0.025\nWilcoxon signed rank Test ====> Statistics = 1886.000, p = 0.028\nMan-Whitney Test =============> Statistics = 4025.000, p = 0.009\nWilcoxon rank sums Test ======> Statistics = -2.382, p = 0.017\n"
     ]
    }
   ],
   "source": [
    "# Compare samples\n",
    "stat, p = sst.ttest_ind(data1, data2)\n",
    "print('t-Test =======================> Statistics = %.3f, p = %.3f' % (stat, p))\n",
    "\n",
    "stat, p = sst.wilcoxon(data1, data2)\n",
    "print('Wilcoxon signed rank Test ====> Statistics = %.3f, p = %.3f' % (stat, p))\n",
    "\n",
    "stat, p = sst.mannwhitneyu(data1, data2)\n",
    "print('Man-Whitney Test =============> Statistics = %.3f, p = %.3f' % (stat, p))\n",
    "\n",
    "stat, p = sst.ranksums(data1, data2)\n",
    "print('Wilcoxon rank sums Test ======> Statistics = %.3f, p = %.3f' % (stat, p))"
   ]
  },
  {
   "cell_type": "code",
   "execution_count": 7,
   "metadata": {},
   "outputs": [
    {
     "output_type": "stream",
     "name": "stdout",
     "text": [
      "Different distributions (reject H0)\n"
     ]
    }
   ],
   "source": [
    "# interpret : Select the p\n",
    "alpha = 0.05\n",
    "if p > alpha:\n",
    "    print('Same distributions (fail to reject H0)')\n",
    "else :\n",
    "    print('Different distributions (reject H0)')"
   ]
  }
 ]
}