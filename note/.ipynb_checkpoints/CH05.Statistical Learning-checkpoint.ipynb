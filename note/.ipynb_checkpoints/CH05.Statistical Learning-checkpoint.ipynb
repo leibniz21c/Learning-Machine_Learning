{
 "cells": [
  {
   "cell_type": "markdown",
   "id": "latin-survivor",
   "metadata": {},
   "source": [
    "# Chapter.05 Statistical Learning\n",
    "---"
   ]
  },
  {
   "cell_type": "markdown",
   "id": "greenhouse-circulation",
   "metadata": {},
   "source": [
    "### 5.1. Wiener filter(Optimal linear MMSE filter)\n",
    "5.1.1."
   ]
  },
  {
   "cell_type": "markdown",
   "id": "green-algeria",
   "metadata": {},
   "source": [
    "### 5.2. Steepest Gradient Descent Method"
   ]
  },
  {
   "cell_type": "markdown",
   "id": "exterior-malpractice",
   "metadata": {},
   "source": [
    "### 5.3. Least Mean Square(LMS) Algorithm"
   ]
  },
  {
   "cell_type": "markdown",
   "id": "complex-sweet",
   "metadata": {},
   "source": [
    "### 5.4. Minimum Mean Square Error(MMSE) Estimator"
   ]
  },
  {
   "cell_type": "markdown",
   "id": "southwest-cyprus",
   "metadata": {},
   "source": [
    "<strong>Reference.</strong><br>"
   ]
  }
 ],
 "metadata": {
  "kernelspec": {
   "display_name": "Python 3",
   "language": "python",
   "name": "python3"
  },
  "language_info": {
   "codemirror_mode": {
    "name": "ipython",
    "version": 3
   },
   "file_extension": ".py",
   "mimetype": "text/x-python",
   "name": "python",
   "nbconvert_exporter": "python",
   "pygments_lexer": "ipython3",
   "version": "3.8.2"
  }
 },
 "nbformat": 4,
 "nbformat_minor": 5
}
