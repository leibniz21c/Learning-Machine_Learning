{
 "metadata": {
  "language_info": {
   "codemirror_mode": {
    "name": "ipython",
    "version": 3
   },
   "file_extension": ".py",
   "mimetype": "text/x-python",
   "name": "python",
   "nbconvert_exporter": "python",
   "pygments_lexer": "ipython3",
   "version": "3.7.3-final"
  },
  "orig_nbformat": 2,
  "kernelspec": {
   "name": "Python 3.7.3 64-bit",
   "display_name": "Python 3.7.3 64-bit",
   "metadata": {
    "interpreter": {
     "hash": "31f2aee4e71d21fbe5cf8b01ff0e069b9275f58929596ceb00d14d90e3e16cd6"
    }
   }
  }
 },
 "nbformat": 4,
 "nbformat_minor": 2,
 "cells": [
  {
   "cell_type": "code",
   "execution_count": 1,
   "metadata": {},
   "outputs": [],
   "source": [
    "#\n",
    "#       2020.10.04\n",
    "#       Heesung Yang\n",
    "#       Pre-processing : Standardization of data\n",
    "#"
   ]
  },
  {
   "cell_type": "code",
   "execution_count": 2,
   "metadata": {},
   "outputs": [],
   "source": [
    "from sklearn import preprocessing\n",
    "import numpy as np"
   ]
  },
  {
   "cell_type": "code",
   "execution_count": 8,
   "metadata": {
    "tags": []
   },
   "outputs": [
    {
     "output_type": "stream",
     "name": "stdout",
     "text": "Data ====================\n\nBefore Standardization --------------------\n[[ 1. -1.  2.]\n [ 2.  0.  0.]\n [ 0.  1. -1.]]\n\nAfter Standardization --------------------\n[[ 0.         -1.22474487  1.33630621]\n [ 1.22474487  0.         -0.26726124]\n [-1.22474487  1.22474487 -1.06904497]]\n"
    }
   ],
   "source": [
    "print(\"Data \" + '=' * 20)\n",
    "X_train = np.array([[1., -1., 2.],\n",
    "                    [2., 0., 0.],\n",
    "                    [0., 1., -1.]])\n",
    "print(\"\\nBefore Standardization \" + '-' * 20)\n",
    "print(X_train)\n",
    "\n",
    "X_scaled = preprocessing.scale(X_train)\n",
    "print(\"\\nAfter Standardization \" + '-' * 20)\n",
    "print(X_scaled)"
   ]
  },
  {
   "cell_type": "code",
   "execution_count": 12,
   "metadata": {
    "tags": []
   },
   "outputs": [
    {
     "output_type": "stream",
     "name": "stdout",
     "text": "Mean and standard-deviation ====================\n\nBefore Standarization --------------------\nmean [1.         0.         0.33333333]\nvar  [0.66666667 0.66666667 1.55555556]\n\\After Standarization --------------------\nmean [0. 0. 0.]\nvar  [1. 1. 1.]\n"
    }
   ],
   "source": [
    "print(\"Mean and standard-deviation \" + '=' * 20)\n",
    "\n",
    "print(\"\\nBefore Standarization \" + '-' * 20)\n",
    "print(\"mean \" + str(X_train.mean(axis=0)))\n",
    "print(\"var  \" + str(X_train.var(axis=0)))\n",
    "\n",
    "print(\"\\After Standarization \" + '-' * 20)\n",
    "print(\"mean \" + str(X_scaled.mean(axis=0)))\n",
    "print(\"var  \" + str(X_scaled.var(axis=0)))"
   ]
  },
  {
   "cell_type": "code",
   "execution_count": null,
   "metadata": {},
   "outputs": [],
   "source": []
  }
 ]
}