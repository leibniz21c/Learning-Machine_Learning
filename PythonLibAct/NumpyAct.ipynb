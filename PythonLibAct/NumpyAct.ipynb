{
 "metadata": {
  "language_info": {
   "codemirror_mode": {
    "name": "ipython",
    "version": 3
   },
   "file_extension": ".py",
   "mimetype": "text/x-python",
   "name": "python",
   "nbconvert_exporter": "python",
   "pygments_lexer": "ipython3",
   "version": "3.7.3-final"
  },
  "orig_nbformat": 2,
  "kernelspec": {
   "name": "python_defaultSpec_1599906081566",
   "display_name": "Python 3.7.3 64-bit"
  }
 },
 "nbformat": 4,
 "nbformat_minor": 2,
 "cells": [
  {
   "source": [
    "# env : local \n",
    "# 2020.09.12\n",
    "\n",
    "# importing example\n",
    "import numpy as np"
   ],
   "cell_type": "code",
   "metadata": {},
   "execution_count": 17,
   "outputs": []
  },
  {
   "cell_type": "code",
   "execution_count": 18,
   "metadata": {},
   "outputs": [],
   "source": [
    "# linear structure define\n",
    "vec = np.array([1, 2])\n",
    "mat = np.array([[1, 2, 3],\n",
    "                [4, 5, 6]])"
   ]
  },
  {
   "cell_type": "code",
   "execution_count": 19,
   "metadata": {
    "tags": []
   },
   "outputs": [
    {
     "output_type": "stream",
     "name": "stdout",
     "text": "[4 6]\n[4 6]\n[-2 -2]\n[-2 -2]\n[3 6]\n[3 6]\n"
    }
   ],
   "source": [
    "# Summation, Subtract, Scalar multiplication of linear structure\n",
    "a = np.array([1, 2])\n",
    "b = np.array([3, 4])\n",
    "\n",
    "print(a + b)\n",
    "print(np.add(a, b))\n",
    "\n",
    "print(a - b)\n",
    "print(np.subtract(a, b))\n",
    "\n",
    "print(3 * a)\n",
    "print(np.multiply(3, a))"
   ]
  },
  {
   "cell_type": "code",
   "execution_count": 20,
   "metadata": {
    "tags": []
   },
   "outputs": [
    {
     "output_type": "stream",
     "name": "stdout",
     "text": "11\n[[3 4]\n [6 8]]\n"
    }
   ],
   "source": [
    "# Inner product and outer product of vector\n",
    "print(np.inner(a, b))\n",
    "print(np.outer(a, b))"
   ]
  },
  {
   "cell_type": "code",
   "execution_count": 24,
   "metadata": {
    "tags": []
   },
   "outputs": [
    {
     "output_type": "stream",
     "name": "stdout",
     "text": "(2,)\n(2, 3)\n"
    }
   ],
   "source": [
    "# Shape of matrix\n",
    "print(np.shape(vec))\n",
    "print(np.shape(mat))"
   ]
  },
  {
   "cell_type": "code",
   "execution_count": 28,
   "metadata": {
    "tags": []
   },
   "outputs": [
    {
     "output_type": "stream",
     "name": "stdout",
     "text": "[[1 2 3]\n [4 5 6]]\n[1 2 3 4 5 6]\n[[1 2]\n [3 4]\n [5 6]]\n[[1 4]\n [2 5]\n [3 6]]\n"
    }
   ],
   "source": [
    "# Reshaping the matrix\n",
    "dim_mat = np.shape(mat)\n",
    "mat_to_vec = np.reshape(mat, dim_mat[0] * dim_mat[1])\n",
    "mat_to_mat1 = np.reshape(mat, [3, 2])\n",
    "mat_transpose = mat.T\n",
    "\n",
    "print(mat)\n",
    "print(mat_to_vec)\n",
    "print(mat_to_mat1)\n",
    "print(mat_transpose)"
   ]
  },
  {
   "cell_type": "code",
   "execution_count": 34,
   "metadata": {
    "tags": []
   },
   "outputs": [
    {
     "output_type": "stream",
     "name": "stdout",
     "text": "[1 2]\n2.23606797749979\n9.539392014169456\n"
    }
   ],
   "source": [
    "# 2-norm of vector\n",
    "print(a)\n",
    "print(np.linalg.norm(a))\n",
    "\n",
    "# Frobenius norm of matrix\n",
    "print(np.linalg.norm(mat))"
   ]
  },
  {
   "cell_type": "code",
   "execution_count": null,
   "metadata": {},
   "outputs": [],
   "source": []
  }
 ]
}