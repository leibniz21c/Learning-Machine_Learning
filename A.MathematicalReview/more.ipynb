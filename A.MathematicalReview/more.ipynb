{
 "metadata": {
  "language_info": {
   "codemirror_mode": {
    "name": "ipython",
    "version": 3
   },
   "file_extension": ".py",
   "mimetype": "text/x-python",
   "name": "python",
   "nbconvert_exporter": "python",
   "pygments_lexer": "ipython3",
   "version": 3
  },
  "orig_nbformat": 2
 },
 "nbformat": 4,
 "nbformat_minor": 2,
 "cells": [
  {
   "cell_type": "markdown",
   "metadata": {},
   "source": [
    "### A.1. Basic Definitions and Theorems\n",
    "#### Def:A.1.1 p-norm\n",
    "$$ \\left \\| \\mathbf{x} \\right \\| = (\\sum_{i} \\left | x_i \\right |^p)^\\frac{1}{p}$$\n",
    ",which is called p-norm.\n",
    "\n",
    "<br><br>\n",
    "\n",
    "#### Def:A.1.2 Infinite-norm of the vector\n",
    "$$ \\left \\| \\mathbf{x} \\right \\|_\\infty = \\max_i \\left | x_i \\right | $$\n",
    "\n",
    "#### Def:A.1.3 0-norm of the vector\n",
    "$$ \\left \\| \\mathbf{x} \\right \\|_0 = numbers \\,\\ of \\,\\ nonzero \\,\\ x_i $$"
   ]
  },
  {
   "cell_type": "markdown",
   "metadata": {},
   "source": [
    "#### Def:A.1.5 Definite positive\n",
    "A symmetric $n \\times n$ real matrix $M$ is said to be positive definite if the scalar $\\mathbf{z}^TM\\mathbf{z}$ is positive for every non-zero column vector $\\mathbf{z}$ of n real numbers. It can be written\n",
    "$$ X\\prec\\mathbf{0} $$"
   ]
  },
  {
   "cell_type": "markdown",
   "metadata": {},
   "source": [
    "#### Def:A.1.6 Semi-Definite positive\n",
    "A symmetric $n \\times n$ real matrix $M$ is said to be semi-positive definite if the scalar $\\mathbf{z}^TM\\mathbf{z}$ isn't negative for every non-zero column vector $\\mathbf{z}$ of n real numbers. It can be written\n",
    "$$ X\\preceq\\mathbf{0} $$"
   ]
  },
  {
   "cell_type": "markdown",
   "metadata": {},
   "source": [
    "#### Def:A.1.9 Orthogonal Matrix\n",
    "Let $Q$ be a $n \\times n$ matrix.<br>\n",
    "$Q$ is a orthogonal matrix if and only if\n",
    "$$ Q^TQ = QQ^T = I $$"
   ]
  },
  {
   "cell_type": "markdown",
   "metadata": {},
   "source": [
    "#### Thm: A.1.1 Property of Orthogonal Matrix\n",
    "Let $Q$ be a $n \\times n$ orthogonal matrix.<br>\n",
    "When $ Q = \\begin{bmatrix} \\mathbf{q_1} & \\mathbf{q_2} & \\cdots & \\mathbf{q_n} \\end{bmatrix} $, <br>\n",
    "\n",
    "$ \\mathbf{q}_i^T\\mathbf{q}_j = $ $ \\begin{cases} 1 \\,\\ \\,\\ if \\,\\ \\,\\ i = j \\\\\n",
    "0 \\,\\ \\,\\ if \\,\\ \\,\\ i \\neq j \n",
    "\\end{cases}$"
   ]
  },
  {
   "cell_type": "code",
   "execution_count": null,
   "metadata": {},
   "outputs": [],
   "source": []
  }
 ]
}