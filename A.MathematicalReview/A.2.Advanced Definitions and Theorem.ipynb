{
 "metadata": {
  "language_info": {
   "codemirror_mode": {
    "name": "ipython",
    "version": 3
   },
   "file_extension": ".py",
   "mimetype": "text/x-python",
   "name": "python",
   "nbconvert_exporter": "python",
   "pygments_lexer": "ipython3",
   "version": 3
  },
  "orig_nbformat": 2
 },
 "nbformat": 4,
 "nbformat_minor": 2,
 "cells": [
  {
   "cell_type": "markdown",
   "metadata": {},
   "source": [
    "# Appendix. Mathematical Review\n",
    "---\n",
    "### A.2 Advanced Definitions and Theorems\n",
    "#### Def:A.2.1 Gradient of a scalar function with respect to a vector\n",
    "Let the function value of $f$ is scalar. and $ w $ is $ m \\times 1$ vector.<br>\n",
    "$ \\frac{\\partial f(\\mathbf{w})}{\\partial \\mathbf{w}} = \\bigtriangledown _\\mathbf{w} f(\\mathbf{w}) = $ $ \\begin{bmatrix}\n",
    "\\frac{\\partial f(\\mathbf{w})}{\\partial w_1} \\\\\n",
    "\\frac{\\partial f(\\mathbf{w})}{\\partial w_2} \\\\\n",
    "\\cdots \\\\\n",
    "\\frac{\\partial f(\\mathbf{w})}{\\partial w_m} \\\\\n",
    "\\end{bmatrix} $ "
   ]
  },
  {
   "cell_type": "markdown",
   "metadata": {},
   "source": [
    "#### Def:A.2.2 Gradient of a vector function with respect to a vector\n",
    "Let the function value of $\\mathbf{g}$ is $ n \\times 1 $ vector <br>\n",
    "where $ \\mathbf{g}(\\mathbf{w}) = $ $ \\begin{bmatrix}\n",
    "g_1(\\mathbf{w}) \\\\\n",
    "g_2(\\mathbf{w}) \\\\\n",
    "\\vdots \\\\\n",
    "g_n(\\mathbf{w}) \\\\\n",
    "\\end{bmatrix} $ . and $ w $ is $ m \\times 1$ vector.<br>\n",
    "\n",
    "$ \\frac{\\partial \\mathbf{g}(\\mathbf{w})}{\\partial \\mathbf{w}} = \\bigtriangledown _\\mathbf{w} \\mathbf{g}(\\mathbf{w}) = $ $ \\begin{bmatrix}\n",
    "\\frac{\\partial g_1(\\mathbf{w})}{\\partial w_1} & \\frac{\\partial g_1(\\mathbf{w})}{\\partial w_2} & \\cdots & \\frac{\\partial g_1(\\mathbf{w})}{\\partial w_m} \\\\\n",
    "\\frac{\\partial g_2(\\mathbf{w})}{\\partial w_1} & \\frac{\\partial g_2(\\mathbf{w})}{\\partial w_2} & \\cdots & \\frac{\\partial g_2(\\mathbf{w})}{\\partial w_m} \\\\\n",
    "\\vdots & \\vdots & \\ddots & \\vdots \\\\\n",
    "\\frac{\\partial g_m(\\mathbf{w})}{\\partial w_1} & \\frac{\\partial g_m(\\mathbf{w})}{\\partial w_2} & \\cdots & \\frac{\\partial g_m(\\mathbf{w})}{\\partial w_m} \\\\\n",
    "\\end{bmatrix} $ "
   ]
  },
  {
   "cell_type": "markdown",
   "metadata": {},
   "source": [
    "#### Def:A.2.3 Hessian matrix of a scalar function with respect to a vector\n",
    "Let the function value of $f$ is scalar and $w$ is a $m \\times 1$ vector.<br>\n",
    "$ \\mathbf{H} = \\frac{\\partial }{\\partial \\mathbf{w}}\\bigtriangledown _\\mathbf{w}^2f(\\mathbf{w}) = $ $ \\begin{bmatrix}\n",
    "\\frac{\\partial ^2f(\\mathbf{w})}{\\partial w_1^2} & \\frac{\\partial ^2f(\\mathbf{w})}{\\partial w_1\\partial w_2} & \\cdots & \\frac{\\partial ^2f(\\mathbf{w})}{\\partial w_1\\partial w_m} \\\\ \n",
    "\\frac{\\partial ^2f(\\mathbf{w})}{\\partial w_2\\partial w_1} & \\frac{\\partial ^2f(\\mathbf{w})}{\\partial w_2^2} & \\cdots & \\frac{\\partial ^2f(\\mathbf{w})}{\\partial w_2\\partial w_m} \\\\\n",
    "\\vdots & \\vdots & \\ddots & \\vdots \\\\\n",
    "\\frac{\\partial ^2f(\\mathbf{w})}{\\partial w_m\\partial w_1} & \\frac{\\partial ^2f(\\mathbf{w})}{\\partial w_m\\partial w_2} & \\cdots & \\frac{\\partial ^2f(\\mathbf{w})}{\\partial w_m^2} \\\\\n",
    "\\end{bmatrix} \n",
    "$\n",
    "\n"
   ]
  },
  {
   "cell_type": "markdown",
   "metadata": {},
   "source": [
    "#### Thm:A.2.1 Lagrange Multiplier in two variables function\n",
    "Let $ D $ is a domain of the function $f$ where $ D = \\{(x,y) : g(x,y) = k, k \\in \\mathbb{R} \\} $. <br>\n",
    "And $ f $ and $ g $ are partial differentiable.<br>\n",
    "If $ z = f(x,y) $ has extremum point at $(x_0, y_0) \\in D$, <br>\n",
    "$$ \\exists \\,\\ \\lambda \\,\\ s.t. \\,\\ \\bigtriangledown f(x_0, y_0) = \\lambda \\bigtriangledown g(x_0, y_0), \\,\\ where \\,\\ \\bigtriangledown g(x_0, y_0) \\neq \\mathbf{0}$$ \n",
    " "
   ]
  },
  {
   "cell_type": "markdown",
   "metadata": {},
   "source": [
    "#### Thm:A.2.2 Lagrange Multiplier in multi variables function"
   ]
  },
  {
   "cell_type": "markdown",
   "metadata": {},
   "source": [
    "#### Def:A.2.4 Optimization Problem"
   ]
  },
  {
   "cell_type": "markdown",
   "metadata": {},
   "source": [
    "#### Def:A.2.3 Optimization Theory"
   ]
  },
  {
   "cell_type": "markdown",
   "metadata": {},
   "source": [
    "TODO : <br>\n",
    "다변수함수 라그랑주 승수법<br>\n",
    "최적화 이론<br>\n",
    "KKT Condtion<br>"
   ]
  },
  {
   "cell_type": "markdown",
   "metadata": {},
   "source": [
    "Reference :<br>\n",
    "Deep Learning - Yosha Benjio<br>\n",
    "proofwiki.org"
   ]
  }
 ]
}