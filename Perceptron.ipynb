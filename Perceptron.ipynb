{
 "metadata": {
  "language_info": {
   "codemirror_mode": {
    "name": "ipython",
    "version": 3
   },
   "file_extension": ".py",
   "mimetype": "text/x-python",
   "name": "python",
   "nbconvert_exporter": "python",
   "pygments_lexer": "ipython3",
   "version": "3.7.3-final"
  },
  "orig_nbformat": 2,
  "kernelspec": {
   "name": "python_defaultSpec_1600456102579",
   "display_name": "Python 3.7.3 64-bit"
  }
 },
 "nbformat": 4,
 "nbformat_minor": 2,
 "cells": [
  {
   "cell_type": "code",
   "execution_count": 10,
   "metadata": {},
   "outputs": [],
   "source": [
    "import numpy as np\n",
    "import matplotlib.pyplot as plt\n",
    "import pandas as pd\n",
    "from pandas import Series, DataFrame\n",
    "\n",
    "from numpy.random import multivariate_normal\n",
    "\n",
    "#\n",
    "# Parameters\n",
    "N1 = 20\n",
    "Mu1 = [15, 10]\n",
    "\n",
    "N2 = 30\n",
    "Mu2 = [0, 0]\n",
    "\n",
    "Variances = [15, 30]"
   ]
  },
  {
   "cell_type": "code",
   "execution_count": 15,
   "metadata": {},
   "outputs": [],
   "source": [
    "def prepare_dataset(variance):\n",
    "    cov1 = np.array([[variance, 0], [0, variance]]) # 독립으로 만들기\n",
    "    cov2 = np.array([[variance, 0], [0, variance]])\n",
    "\n",
    "    df1 = DataFrame(multivariate_normal(Mu1, cov1, N1), columns = ['x', 'y'])\n",
    "    df1['type'] = 1\n",
    "    df2 = DataFrame(multivariate_normal(Mu2, cov2, N2), columns = ['x', 'y'])\n",
    "    df2['type'] = -1\n",
    "\n",
    "    df = pd.concat([df1, df2], ignore_index=True)\n",
    "    df = df.reindex(np.random.permutation(df.index)).reset_index(drop=True)\n",
    "\n",
    "    return df"
   ]
  },
  {
   "cell_type": "code",
   "execution_count": null,
   "metadata": {},
   "outputs": [],
   "source": [
    "# Perceptron\n"
   ]
  },
  {
   "cell_type": "code",
   "execution_count": null,
   "metadata": {},
   "outputs": [],
   "source": []
  }
 ]
}