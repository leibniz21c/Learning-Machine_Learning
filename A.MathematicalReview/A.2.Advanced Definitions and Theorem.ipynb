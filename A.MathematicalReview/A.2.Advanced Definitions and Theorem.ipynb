{
 "metadata": {
  "language_info": {
   "codemirror_mode": {
    "name": "ipython",
    "version": 3
   },
   "file_extension": ".py",
   "mimetype": "text/x-python",
   "name": "python",
   "nbconvert_exporter": "python",
   "pygments_lexer": "ipython3",
   "version": 3
  },
  "orig_nbformat": 2
 },
 "nbformat": 4,
 "nbformat_minor": 2,
 "cells": [
  {
   "cell_type": "markdown",
   "metadata": {},
   "source": [
    "# Appendix. Mathematical Review\n",
    "---\n",
    "### A.1. Notation\n",
    "#### Def:A.1.1 p-norm\n",
    "$$ \\left \\| \\mathbf{x} \\right \\| = (\\sum_{i} \\left | x_i \\right |^p)^\\frac{1}{p}$$\n",
    ",which is called p-norm.\n",
    "\n",
    "<br><br>\n",
    "\n",
    "#### Def:A.1.2 Infinite-norm of the vector\n",
    "$$ \\left \\| \\mathbf{x} \\right \\|_\\infty = \\max_i \\left | x_i \\right | $$"
   ]
  },
  {
   "cell_type": "code",
   "execution_count": null,
   "metadata": {},
   "outputs": [],
   "source": []
  }
 ]
}