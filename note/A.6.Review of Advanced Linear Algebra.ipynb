{
 "metadata": {
  "language_info": {
   "codemirror_mode": {
    "name": "ipython",
    "version": 3
   },
   "file_extension": ".py",
   "mimetype": "text/x-python",
   "name": "python",
   "nbconvert_exporter": "python",
   "pygments_lexer": "ipython3",
   "version": "3.7.3-final"
  },
  "orig_nbformat": 2,
  "kernelspec": {
   "name": "Python 3.7.3 64-bit",
   "display_name": "Python 3.7.3 64-bit",
   "metadata": {
    "interpreter": {
     "hash": "31f2aee4e71d21fbe5cf8b01ff0e069b9275f58929596ceb00d14d90e3e16cd6"
    }
   }
  }
 },
 "nbformat": 4,
 "nbformat_minor": 2,
 "cells": [
  {
   "source": [
    "# Appendix.06 Review of Advanced Linear Algebra\n",
    "---"
   ],
   "cell_type": "markdown",
   "metadata": {}
  },
  {
   "source": [
    "#### Definition.A.6.1 Moore-penrose pseudoinverse matrix\n",
    "Let $A$ be $m \\times n$ matrix.<br>\n",
    "\n",
    "$$ A^+ = \\lim_{\\alpha \\rightarrow 0} ( A^T A + \\alpha I )^{-1} A^T $$\n",
    "$A^+$ is called psedoinverse matrix of $A$."
   ],
   "cell_type": "markdown",
   "metadata": {}
  },
  {
   "source": [
    "#### Theorem.A.6.1 Singular value decomposition\n",
    "Suppose $A$ be $ m \\times n $ matrix.\n",
    "$$ A^+ = V D^+ U^T $$\n",
    "Columns of $U_{m \\times m}$ are left-singular vector of $A$. (Eigenvectors of $AA^T$)<br>\n",
    "Columns of $V_{n \\times n}$ are right-singular vector of $A$. (Eigenvectors of $A^TA$)<br>\n",
    "<br>\n",
    "\n",
    "<strong>Proof.</strong><br>"
   ],
   "cell_type": "markdown",
   "metadata": {}
  },
  {
   "source": [],
   "cell_type": "markdown",
   "metadata": {}
  },
  {
   "source": [
    "<strong>Reference</strong><br>\n",
    "위키피디아"
   ],
   "cell_type": "markdown",
   "metadata": {}
  }
 ]
}