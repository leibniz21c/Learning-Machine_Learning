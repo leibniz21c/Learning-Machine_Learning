{
 "metadata": {
  "language_info": {
   "codemirror_mode": {
    "name": "ipython",
    "version": 3
   },
   "file_extension": ".py",
   "mimetype": "text/x-python",
   "name": "python",
   "nbconvert_exporter": "python",
   "pygments_lexer": "ipython3",
   "version": "3.7.3-final"
  },
  "orig_nbformat": 2,
  "kernelspec": {
   "name": "Python 3.7.3 64-bit",
   "display_name": "Python 3.7.3 64-bit",
   "metadata": {
    "interpreter": {
     "hash": "31f2aee4e71d21fbe5cf8b01ff0e069b9275f58929596ceb00d14d90e3e16cd6"
    }
   }
  }
 },
 "nbformat": 4,
 "nbformat_minor": 2,
 "cells": [
  {
   "cell_type": "code",
   "execution_count": 1,
   "metadata": {},
   "outputs": [],
   "source": [
    "#\n",
    "#       2020.10.04\n",
    "#       Heesung Yang\n",
    "#       Pre-processing : One Hot Encoding\n",
    "#"
   ]
  },
  {
   "cell_type": "code",
   "execution_count": 4,
   "metadata": {},
   "outputs": [],
   "source": [
    "from sklearn.preprocessing import LabelEncoder, OneHotEncoder, LabelBinarizer"
   ]
  },
  {
   "cell_type": "code",
   "execution_count": 5,
   "metadata": {},
   "outputs": [],
   "source": [
    "color = ['red', 'green', 'blue']"
   ]
  },
  {
   "cell_type": "code",
   "execution_count": 11,
   "metadata": {
    "tags": []
   },
   "outputs": [
    {
     "output_type": "stream",
     "name": "stdout",
     "text": "[2 1 0]\n  (0, 2)\t1.0\n  (1, 1)\t1.0\n  (2, 0)\t1.0\n[2 1 0]\n  (0, 2)\t1.0\n  (1, 1)\t1.0\n  (2, 0)\t1.0\n[[0. 0. 1.]\n [0. 1. 0.]\n [1. 0. 0.]]\n"
    }
   ],
   "source": [
    "color_num = LabelEncoder().fit_transform(color)\n",
    "print(color_num)\n",
    "\n",
    "color_onehot = OneHotEncoder().fit_transform(color_num.reshape(-1, 1))\n",
    "print(color_onehot) # 희소 행렬 형태\n",
    "lor_num = LabelEncoder().fit_transform(color)\n",
    "print(color_num)\n",
    "\n",
    "color_onehot = OneHotEncoder().fit_transform(color_num.reshape(-1, 1))\n",
    "print(color_onehot) # 희소 행렬 형태\n",
    "print(color_onehot.toarray()) # 일반 행렬 형태"
   ]
  },
  {
   "cell_type": "code",
   "execution_count": 13,
   "metadata": {
    "tags": []
   },
   "outputs": [
    {
     "output_type": "stream",
     "name": "stdout",
     "text": "[[0 0 1]\n [0 1 0]\n [1 0 0]]\n"
    }
   ],
   "source": [
    "color_onehot2 = LabelBinarizer().fit_transform(color)\n",
    "print(color_onehot2)"
   ]
  },
  {
   "cell_type": "code",
   "execution_count": null,
   "metadata": {},
   "outputs": [],
   "source": []
  }
 ]
}