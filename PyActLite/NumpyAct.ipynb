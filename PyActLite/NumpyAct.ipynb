{
 "metadata": {
  "language_info": {
   "codemirror_mode": {
    "name": "ipython",
    "version": 3
   },
   "file_extension": ".py",
   "mimetype": "text/x-python",
   "name": "python",
   "nbconvert_exporter": "python",
   "pygments_lexer": "ipython3",
   "version": "3.7.3-final"
  },
  "orig_nbformat": 2,
  "kernelspec": {
   "name": "python_defaultSpec_1600100548029",
   "display_name": "Python 3.7.3 64-bit"
  }
 },
 "nbformat": 4,
 "nbformat_minor": 2,
 "cells": [
  {
   "source": [
    "# env : local \n",
    "# 2020.09.15\n",
    "\n",
    "# importing example\n",
    "import numpy as np"
   ],
   "cell_type": "code",
   "metadata": {},
   "execution_count": 22,
   "outputs": []
  },
  {
   "cell_type": "code",
   "execution_count": 39,
   "metadata": {
    "tags": []
   },
   "outputs": [
    {
     "output_type": "stream",
     "name": "stdout",
     "text": "[1 2]\n[[1 2 3]\n [4 5 6]]\n"
    }
   ],
   "source": [
    "# linear structure define\n",
    "vec = np.array([1, 2])\n",
    "mat = np.mat([[1, 2, 3],\n",
    "                [4, 5, 6]])\n",
    "\n",
    "print(vec)\n",
    "print(mat)"
   ]
  },
  {
   "cell_type": "code",
   "execution_count": 24,
   "metadata": {
    "tags": []
   },
   "outputs": [
    {
     "output_type": "stream",
     "name": "stdout",
     "text": "[0. 0. 0. 0. 0. 0. 0. 0. 0. 0.]\n"
    }
   ],
   "source": [
    "# zero vector define\n",
    "zero_vec = np.zeros(10)\n",
    "\n",
    "print(zero_vec)"
   ]
  },
  {
   "cell_type": "code",
   "execution_count": 46,
   "metadata": {
    "tags": []
   },
   "outputs": [
    {
     "output_type": "stream",
     "name": "stdout",
     "text": "[[1 0 0]\n [0 2 0]\n [0 0 3]]\n"
    }
   ],
   "source": [
    "# diagonal matrix define\n",
    "a = np.diag([1, 2, 3])\n",
    "\n",
    "print(a)"
   ]
  },
  {
   "cell_type": "code",
   "execution_count": 49,
   "metadata": {
    "tags": []
   },
   "outputs": [
    {
     "output_type": "stream",
     "name": "stdout",
     "text": "[[1. 0. 0.]\n [0. 1. 0.]\n [0. 0. 1.]]\n"
    }
   ],
   "source": [
    "# Identity matrix define\n",
    "a = np.identity(3)\n",
    "\n",
    "print(a)"
   ]
  },
  {
   "cell_type": "code",
   "execution_count": 53,
   "metadata": {
    "tags": []
   },
   "outputs": [
    {
     "output_type": "stream",
     "name": "stdout",
     "text": "[[1 2 3]\n [0 5 6]\n [0 0 9]]\n[[1 0 0]\n [4 5 0]\n [7 8 9]]\n"
    }
   ],
   "source": [
    "# Triangular matrix define\n",
    "A = np.mat([[1, 2, 3],\n",
    "            [4, 5, 6],\n",
    "            [7, 8, 9]])\n",
    "\n",
    "print(np.triu(A))\n",
    "print(np.tril(A))"
   ]
  },
  {
   "cell_type": "code",
   "execution_count": 58,
   "metadata": {
    "tags": []
   },
   "outputs": [
    {
     "output_type": "stream",
     "name": "stdout",
     "text": "(3, 3)\n[[-0.24302789  0.19920319  0.06374502]\n [ 0.0876494   0.07569721 -0.05577689]\n [ 0.26693227 -0.0876494   0.01195219]]\n"
    }
   ],
   "source": [
    "# Inverse matrix generating\n",
    "A = np.mat([[1, 2, 4],\n",
    "            [4, 5, 2],\n",
    "            [7, -8, 9]])\n",
    "print(A.shape)\n",
    "\n",
    "invA = np.linalg.inv(A)\n",
    "print(invA)"
   ]
  },
  {
   "cell_type": "code",
   "execution_count": 30,
   "metadata": {
    "tags": []
   },
   "outputs": [
    {
     "output_type": "stream",
     "name": "stdout",
     "text": "[ 0.08764834  1.4552688   1.91635591  0.850543   -0.58289463 -0.36127435\n  0.8577831   0.45427491  1.03664704  0.54601854]\n"
    }
   ],
   "source": [
    "# random number generating\n",
    "a = np.random.randn(10)\n",
    "print(a)"
   ]
  },
  {
   "cell_type": "code",
   "execution_count": 45,
   "metadata": {
    "tags": []
   },
   "outputs": [
    {
     "output_type": "stream",
     "name": "stdout",
     "text": "[4 6]\n[4 6]\n[-2 -2]\n[-2 -2]\n[3 6]\n[3 6]\n[[11]]\n[[3 4]\n [6 8]]\n"
    }
   ],
   "source": [
    "# Summation, Subtract, Scalar multiplication and Matrix multiplication\n",
    "a = np.array([1, 2])\n",
    "a_mat = np.mat([[1],\n",
    "                [2]])\n",
    "b = np.array([3, 4])\n",
    "b_mat = np.mat([[3],\n",
    "                [4]])\n",
    "\n",
    "print(a + b)\n",
    "print(np.add(a, b))\n",
    "\n",
    "print(a - b)\n",
    "print(np.subtract(a, b))\n",
    "\n",
    "print(3 * a)\n",
    "print(np.multiply(3, a))\n",
    "\n",
    "\n",
    "print(a_mat.T @ b_mat)\n",
    "print(a_mat @ b_mat.T)"
   ]
  },
  {
   "cell_type": "code",
   "execution_count": 9,
   "metadata": {
    "tags": []
   },
   "outputs": [
    {
     "output_type": "stream",
     "name": "stdout",
     "text": "11\n[[3 4]\n [6 8]]\n"
    }
   ],
   "source": [
    "# Inner product and outer product of vector\n",
    "print(np.inner(a, b))\n",
    "print(np.outer(a, b))"
   ]
  },
  {
   "cell_type": "code",
   "execution_count": 10,
   "metadata": {
    "tags": []
   },
   "outputs": [
    {
     "output_type": "stream",
     "name": "stdout",
     "text": "(2,)\n(2, 3)\n"
    }
   ],
   "source": [
    "# Shape of matrix\n",
    "print(np.shape(vec))\n",
    "print(np.shape(mat))"
   ]
  },
  {
   "cell_type": "code",
   "execution_count": 11,
   "metadata": {
    "tags": []
   },
   "outputs": [
    {
     "output_type": "stream",
     "name": "stdout",
     "text": "[[1 2 3]\n [4 5 6]]\n[1 2 3 4 5 6]\n[[1 2]\n [3 4]\n [5 6]]\n[[1 4]\n [2 5]\n [3 6]]\n"
    }
   ],
   "source": [
    "# Reshaping the matrix\n",
    "dim_mat = np.shape(mat)\n",
    "mat_to_vec = np.reshape(mat, dim_mat[0] * dim_mat[1])\n",
    "mat_to_mat1 = np.reshape(mat, [3, 2])\n",
    "mat_transpose = mat.T\n",
    "\n",
    "print(mat)\n",
    "print(mat_to_vec)\n",
    "print(mat_to_mat1)\n",
    "print(mat_transpose)"
   ]
  },
  {
   "cell_type": "code",
   "execution_count": 31,
   "metadata": {
    "tags": []
   },
   "outputs": [
    {
     "output_type": "stream",
     "name": "stdout",
     "text": "[[ 0  1  2  3]\n [ 0 -1 -2 -3]]\n[[ 0  0]\n [ 1 -1]\n [ 2 -2]\n [ 3 -3]]\n"
    }
   ],
   "source": [
    "# Creating matrix with vectors\n",
    "\n",
    "# example data\n",
    "x = np.array([0, 1, 2, 3])\n",
    "y = np.array([0, -1, -2, -3])\n",
    "\n",
    "# column vector oriented\n",
    "xy = np.vstack([x, y])\n",
    "print(xy)\n",
    "\n",
    "# row vector oriented\n",
    "xy = np.vstack([x, y]).T\n",
    "print(xy)"
   ]
  },
  {
   "cell_type": "code",
   "execution_count": 12,
   "metadata": {
    "tags": []
   },
   "outputs": [
    {
     "output_type": "stream",
     "name": "stdout",
     "text": "[1 2]\n2.23606797749979\n9.539392014169456\n"
    }
   ],
   "source": [
    "# 2-norm of vector\n",
    "print(a)\n",
    "print(np.linalg.norm(a))\n",
    "\n",
    "# Frobenius norm of matrix\n",
    "print(np.linalg.norm(mat))"
   ]
  },
  {
   "cell_type": "code",
   "execution_count": 20,
   "metadata": {
    "tags": []
   },
   "outputs": [
    {
     "output_type": "stream",
     "name": "stdout",
     "text": "[[1.         0.57154761]\n [0.57154761 1.        ]]\n[[ 1.  1. -1.  1.]\n [ 1.  1. -1.  1.]\n [-1. -1.  1. -1.]\n [ 1.  1. -1.  1.]]\n"
    }
   ],
   "source": [
    "# Correlation coefficient\n",
    "\n",
    "# Example Data\n",
    "a = np.array([1, 2, 3, 4])\n",
    "b = np.array([0, 3, -1, 6])\n",
    "print(np.corrcoef(a, b))"
   ]
  },
  {
   "cell_type": "code",
   "execution_count": null,
   "metadata": {},
   "outputs": [],
   "source": []
  },
  {
   "cell_type": "code",
   "execution_count": null,
   "metadata": {},
   "outputs": [],
   "source": []
  }
 ]
}