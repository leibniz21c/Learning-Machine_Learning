{
 "cells": [
  {
   "cell_type": "markdown",
   "id": "sensitive-organ",
   "metadata": {},
   "source": [
    "# Chapter.05 Classification\n",
    "---\n",
    "### 5.1. Definition of classification problem\n",
    "Classification is process that find $ (m-1) $-dimensional hyperplanes in $ m $-dimensional space. For example, let's see hand-written digit recognition. \n",
    "\n",
    "<img src=\"./res/ch05/fig_1_1.png\" width=\"200\" height=\"200\"><br>\n",
    "<div align=\"center\">\n",
    "  Figure.5.1.1\n",
    "</div>\n",
    "\n",
    "Above $ 28 \\times 28 $-dimensional vector can be input data. If we find the function that map input data to target data(in this context, target data is discrete categorical data like one-hot vector.) In above classification problem, a target must be\n",
    "\n",
    "$$\n",
    "\\mathbf{t}_n = (0, 0, 0, 1, 0, 0, 0, 0, 0, 0)^T\n",
    "$$\n",
    "\n",
    "This is one-hot encoding or 1-to-K binary coding scheme. So, In classification, each input vector classified into one of $ K $ discrete classes denoted classes by $ C_k $. It represents input image as a vector $ \\mathbf{x}_n \\in \\mathbb{R}^{784(=28 \\times 28)} $. Also, we have target vector $ \\mathbf{t}_n \\in \\{0, 1\\}^{10} $. Given a training set $ \\{(\\mathbf{x}_1, \\mathbf{t}_1), \\,\\ (\\mathbf{x}_2, \\mathbf{t}_2), \\,\\ \\cdots , \\,\\ (\\mathbf{x}_N, \\mathbf{t}_N)\\} $, learning problem is to construct a good function $ \\mathbf{y}(\\mathbf{x}) $ from these \n",
    "\n",
    "$$\n",
    "\\mathbf{y} \\,\\ : \\,\\ \\mathbb{R}^{784} \\rightarrow \\mathbb{R}^{10}\n",
    "$$\n",
    "<br><br>\n",
    "\n",
    "So, what is meaning of $ (m-1) $-dimensional hyperplanes? If there are two classes, it will goes like this.\n",
    "\n",
    "<img src=\"./res/ch05/fig_1_2.png\" width=\"400\" height=\"400\"><br>\n",
    "<div align=\"center\">\n",
    "  Figure.5.1.2\n",
    "</div>\n",
    "\n",
    "In this context, the dicision boundary can distinguish between the dicision regions $C_1$ and $C_2$. this dicision boundary can be a hyperplane.\n",
    "\n",
    "<img src=\"./res/ch05/fig_1_3.png\" width=\"800\" height=\"400\"><br>\n",
    "<div align=\"center\">\n",
    "  Figure.5.1.3\n",
    "</div>\n",
    "\n",
    "In this context, the decision boundary is given as a probability. If $ x_i \\ge p $, $ y_i $ can be in $ C_2 $ and if $ x_i < p $, $ y_i $ can be in $ C_1 $."
   ]
  }
 ],
 "metadata": {
  "kernelspec": {
   "display_name": "Python 3",
   "language": "python",
   "name": "python3"
  },
  "language_info": {
   "codemirror_mode": {
    "name": "ipython",
    "version": 3
   },
   "file_extension": ".py",
   "mimetype": "text/x-python",
   "name": "python",
   "nbconvert_exporter": "python",
   "pygments_lexer": "ipython3",
   "version": "3.8.2"
  }
 },
 "nbformat": 4,
 "nbformat_minor": 5
}
