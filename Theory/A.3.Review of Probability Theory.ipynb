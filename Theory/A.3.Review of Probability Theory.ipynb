{
 "metadata": {
  "language_info": {
   "codemirror_mode": {
    "name": "ipython",
    "version": 3
   },
   "file_extension": ".py",
   "mimetype": "text/x-python",
   "name": "python",
   "nbconvert_exporter": "python",
   "pygments_lexer": "ipython3",
   "version": 3
  },
  "orig_nbformat": 2
 },
 "nbformat": 4,
 "nbformat_minor": 2,
 "cells": [
  {
   "source": [
    "# Appendix.03 Review of Probability Theory\n",
    "---"
   ],
   "cell_type": "markdown",
   "metadata": {}
  },
  {
   "source": [
    "#### Definition.A.3.1 Probability\n",
    "1. Subjective(Empirical) Definition :<br>\n",
    "> Our measure of how much we believe something to be true.<br><br>\n",
    "\n",
    "2. Relative Frequency Definition : <br>\n",
    "> Repeating the physical process an extreamly large number of times(trials) and then to look at the fraction of times that the outcome of interest occurs.<br><br>\n",
    "\n",
    "3. Mathematical(Classical) Definition :<br>\n",
    "> The ratio of a number of interested outcomes to the of number of all possible outcomes, presuming they all equally likely.\n"
   ],
   "cell_type": "markdown",
   "metadata": {}
  },
  {
   "source": [
    "#### Axiom.A.3.1 Nonnegativity\n",
    "$$ P(A) \\ge 0 \\quad \\forall \\,\\ \\text{event} \\,\\ A $$"
   ],
   "cell_type": "markdown",
   "metadata": {}
  },
  {
   "source": [
    "#### Axiom.A.3.2 Additivity\n",
    "$$ P(A \\cup B) = P(A) + P(B) \\quad if \\quad A \\cap B = \\O $$\n",
    "$$ P(\\bigcup_{n=1}^{\\infty} A_n) = \\sum_{n=1}^{\\infty} P(A_n) \\quad if \\quad A_i \\cap A_j \\neq \\O, \\,\\ \\forall i \\neq j$$"
   ],
   "cell_type": "markdown",
   "metadata": {}
  },
  {
   "source": [
    "#### Axiom.A.3.3 Normalization\n",
    "$$ P(\\Omega) = 1$$"
   ],
   "cell_type": "markdown",
   "metadata": {}
  },
  {
   "source": [
    "#### Definition.A.3.2 Conditional Probability of A given B\n",
    "$$ P(A|B) = \\frac{P(A \\cap B)}{P(B)} \\quad \\text{for} \\quad P(B) > 0 $$\n",
    "$$ \\Rightarrow P(A \\cap B) = P(A|B) P(B) $$"
   ],
   "cell_type": "markdown",
   "metadata": {}
  },
  {
   "source": [
    "#### Thorem.A.3.1 Total Probability Theorem\n",
    "$$ \\text{If} \\quad A_i \\cap A_j \\neq \\O \\quad \\text{for} \\,\\ 1 \\le i \\le n, \\,\\ 1 \\le j \\le n, \\,\\ i \\neq j, \\,\\ P(A_i) > 0, \\,\\ \\forall i, \\,\\ where \\,\\ \\bigcup_{i = 1}^{n} A_i = \\Omega, $$\n",
    "$$ \\text{then} \\quad P(B) = P(A_1 \\cap B) + \\cdots + P(A_n \\cap B) = P(B|A_1)P(A_1) + \\cdots + P(B|A_n)P(A_n) = P(B) = \\sum_i P(B|A_i)P(A_i) $$\n",
    "<strong>Proof)</strong><br>\n",
    "Trivial $ \\blacksquare $"
   ],
   "cell_type": "markdown",
   "metadata": {}
  },
  {
   "source": [
    "#### Theorem.A.3.2 Bayes Rule\n",
    "$$ \\text{If} \\quad A_i \\cap A_j = \\O \\,\\ for \\,\\ 1 \\le i \\le n, \\,\\ 1 \\le j \\le n, \\,\\ i \\neq j, \\,\\ P(A_i) > 0, \\,\\ \\forall i, \\,\\ \\bigcup_{i=1}^{n} A_i = \\Omega, $$\n",
    "$$ \\text{then} \\quad P(A_i|B) = \\frac{P(B|A_i)P(A_i)}{P(B)} = \\frac{P(B|A_i)P(A_i)}{\\sum_{j=1}^{n} P(B|A_j)P(A_j)} \\quad for \\,\\ P(B) > 0 $$\n",
    "<strong>Proof)</strong><br>\n",
    "$$\n",
    "\\begin{matrix}\n",
    "P(A_i \\cap B) &=& P(A_i|B)P(B) \\qquad \\cdots \\quad (1) \\\\\n",
    "              &=& P(B|A_i)P(A_i) \\qquad \\cdots \\quad (2) \\\\\n",
    "\\end{matrix}\n",
    "$$\n",
    "$$\n",
    "\\begin{matrix}\n",
    "P(A_i | B) &=& \\frac{P(B|A_i)P(A_i)}{P(B)} \\qquad (\\because \\,\\ by \\,\\ (1), \\,\\ (2) \\,\\ ) \\\\\n",
    "           &=& \\frac{P(B|A_i)P(A_i)}{ \\sum_{j=1}^{n} P(B|A_j)P(A_j) } \\qquad (\\because Theorem.A.3.1 ) \\quad \\blacksquare\\\\\n",
    "\\end{matrix} \n",
    "$$\n",
    "We can express the posterior probability in terms of the prior probability and likelihood."
   ],
   "cell_type": "markdown",
   "metadata": {}
  },
  {
   "source": [],
   "cell_type": "markdown",
   "metadata": {}
  }
 ]
}