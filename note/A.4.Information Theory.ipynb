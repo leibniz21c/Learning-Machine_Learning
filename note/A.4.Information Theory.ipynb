{
 "metadata": {
  "language_info": {
   "codemirror_mode": {
    "name": "ipython",
    "version": 3
   },
   "file_extension": ".py",
   "mimetype": "text/x-python",
   "name": "python",
   "nbconvert_exporter": "python",
   "pygments_lexer": "ipython3",
   "version": 3
  },
  "orig_nbformat": 2
 },
 "nbformat": 4,
 "nbformat_minor": 2,
 "cells": [
  {
   "source": [
    "# Appendix.04 Information Theory\n",
    "---"
   ],
   "cell_type": "markdown",
   "metadata": {}
  },
  {
   "source": [
    "#### Definition.A.4.1. Entropy\n",
    "A measure of the uncertainty of a random variable\n",
    "$$ \\mathrm{H}[x] = - \\sum_x p(x) \\log p(x) $$\n",
    "\n",
    "$(- \\log p(x))$ that is amount of information quantified as # of bits required to describe the random variable."
   ],
   "cell_type": "markdown",
   "metadata": {}
  },
  {
   "source": [
    "#### Definition.A.4.2. Differential entropy\n",
    "Let $X$ be a random variable with a probability density function $f$ whose support is a set $\\mathcal{X}$. The differential entropy $\\mathrm{H}[X]$ or $\\mathrm{H}[f]$ is defined as \n",
    "\n",
    "$$ \\mathrm{H}[X] = - \\int_\\mathcal{X} f(x) \\log f(x) dx$$"
   ],
   "cell_type": "markdown",
   "metadata": {}
  },
  {
   "source": [
    "#### Definition.A.4.3. Kullback-Leibler Divergence\n",
    "$$\n",
    "\\begin{align*}\n",
    "\\text{KL}(p||q) &= - \\int p(x) \\ln q(x) dx - (- \\int q(x) \\ln q(x) dx) \\\\\n",
    "                &= - \\int p(x) \\ln \\{ \\frac{q(x)}{p(x)} \\} dx \\\\\n",
    "\\end{align*}\n",
    "$$\n",
    "\n",
    "KL divergence(= releative entropy) measures dissimilarity between two distributions."
   ],
   "cell_type": "markdown",
   "metadata": {}
  },
  {
   "source": [
    "<strong>Reference.</strong><br>\n",
    "Deep Learning - Yosha Benjio<br>\n",
    "[https://ko.wikipedia.org/wiki/정보_이론](https://ko.wikipedia.org/wiki/정보_이론)<br>"
   ],
   "cell_type": "markdown",
   "metadata": {}
  }
 ]
}