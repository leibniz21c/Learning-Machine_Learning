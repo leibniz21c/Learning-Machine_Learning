{
 "cells": [
  {
   "cell_type": "markdown",
   "id": "divided-tablet",
   "metadata": {},
   "source": [
    "# Chapter.04 Statistical Learning\n",
    "---"
   ]
  },
  {
   "cell_type": "markdown",
   "id": "considered-census",
   "metadata": {},
   "source": [
    "### 4.1. Wiener filter(Optimal linear MMSE filter)\n",
    "4.1.1."
   ]
  },
  {
   "cell_type": "markdown",
   "id": "portuguese-radio",
   "metadata": {},
   "source": [
    "### 4.2. Steepest Gradient Descent Method"
   ]
  },
  {
   "cell_type": "markdown",
   "id": "accredited-warren",
   "metadata": {},
   "source": [
    "### 4.3. Least Mean Square(LMS) Algorithm"
   ]
  },
  {
   "cell_type": "markdown",
   "id": "baking-heavy",
   "metadata": {},
   "source": [
    "### 4.4. Minimum Mean Square Error(MMSE) Estimator"
   ]
  },
  {
   "cell_type": "markdown",
   "id": "grand-excitement",
   "metadata": {},
   "source": [
    "<strong>Reference.</strong><br>"
   ]
  }
 ],
 "metadata": {
  "kernelspec": {
   "display_name": "Python 3",
   "language": "python",
   "name": "python3"
  },
  "language_info": {
   "codemirror_mode": {
    "name": "ipython",
    "version": 3
   },
   "file_extension": ".py",
   "mimetype": "text/x-python",
   "name": "python",
   "nbconvert_exporter": "python",
   "pygments_lexer": "ipython3",
   "version": "3.8.2"
  }
 },
 "nbformat": 4,
 "nbformat_minor": 5
}
