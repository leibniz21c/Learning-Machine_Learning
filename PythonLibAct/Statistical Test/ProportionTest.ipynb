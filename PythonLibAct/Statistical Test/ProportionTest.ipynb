{
 "metadata": {
  "language_info": {
   "codemirror_mode": {
    "name": "ipython",
    "version": 3
   },
   "file_extension": ".py",
   "mimetype": "text/x-python",
   "name": "python",
   "nbconvert_exporter": "python",
   "pygments_lexer": "ipython3",
   "version": "3.7.3-final"
  },
  "orig_nbformat": 2,
  "kernelspec": {
   "name": "Python 3.7.3 64-bit",
   "display_name": "Python 3.7.3 64-bit",
   "metadata": {
    "interpreter": {
     "hash": "31f2aee4e71d21fbe5cf8b01ff0e069b9275f58929596ceb00d14d90e3e16cd6"
    }
   }
  }
 },
 "nbformat": 4,
 "nbformat_minor": 2,
 "cells": [
  {
   "cell_type": "code",
   "execution_count": 1,
   "metadata": {},
   "outputs": [],
   "source": [
    "#\n",
    "#\n",
    "#       2020.10.09\n",
    "#       Heesung Yangs\n",
    "#       Statistical test : Proportion test\n",
    "#\n",
    "#"
   ]
  },
  {
   "cell_type": "code",
   "execution_count": 15,
   "metadata": {},
   "outputs": [
    {
     "output_type": "stream",
     "name": "stdout",
     "text": [
      "One Sample Proportion Z-Test ====> Statistics = -1.266, p=0.897\nOne Sample Proportion Binomial Test ======> p = 0.903\nTwo Samples Proportion Test ====> Statistics = -1.789, p = 0.074\n"
     ]
    }
   ],
   "source": [
    "import numpy as np\n",
    "from statsmodels.stats.proportion import proportions_ztest\n",
    "from statsmodels.stats.proportion import binom_test\n",
    "\n",
    "#\n",
    "#       -- One Sample case --\n",
    "count = 480\n",
    "nobs = 1000\n",
    "\n",
    "# Z-test\n",
    "stat, p = proportions_ztest(count, nobs, value=0.5, alternative='larger')\n",
    "print('One Sample Proportion Z-Test ====> Statistics = %.3f, p=%.3f' % (stat, p))\n",
    "\n",
    "# Bin Test\n",
    "p = binom_test (count, nobs, alternative='larger')\n",
    "print('One Sample Proportion Binomial Test ======> p = %.3f' % (p))\n",
    "\n",
    "#\n",
    "#       -- Two Sample Case --\n",
    "count = np.array([480, 520])\n",
    "nobs = np.array([1000, 1000])\n",
    "stat, p = proportions_ztest(count, nobs)\n",
    "print('Two Samples Proportion Test ====> Statistics = %.3f, p = %.3f' % (stat, p))"
   ]
  },
  {
   "cell_type": "code",
   "execution_count": 16,
   "metadata": {},
   "outputs": [
    {
     "output_type": "stream",
     "name": "stdout",
     "text": [
      "Equal Proportion Case =======> Statistics = 2.000, p = 0.849\nDifferent Proportion Case ==> Statistics = 3.500, p = 0.623\n"
     ]
    }
   ],
   "source": [
    "# Pearson's Chi-Square Test\n",
    "from scipy.stats import chisquare\n",
    "\n",
    "stat, p = chisquare([16, 18, 16, 14, 12, 12])\n",
    "print('Equal Proportion Case =======> Statistics = %.3f, p = %.3f' % (stat, p))\n",
    "\n",
    "stat, p = chisquare([16, 18, 16, 14, 12, 12], f_exp = [16, 16, 16, 16, 16, 8])\n",
    "print('Different Proportion Case ==> Statistics = %.3f, p = %.3f' % (stat, p))"
   ]
  }
 ]
}