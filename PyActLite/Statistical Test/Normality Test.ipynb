{
 "metadata": {
  "language_info": {
   "codemirror_mode": {
    "name": "ipython",
    "version": 3
   },
   "file_extension": ".py",
   "mimetype": "text/x-python",
   "name": "python",
   "nbconvert_exporter": "python",
   "pygments_lexer": "ipython3",
   "version": "3.7.3-final"
  },
  "orig_nbformat": 2,
  "kernelspec": {
   "name": "Python 3.7.3 64-bit",
   "display_name": "Python 3.7.3 64-bit",
   "metadata": {
    "interpreter": {
     "hash": "31f2aee4e71d21fbe5cf8b01ff0e069b9275f58929596ceb00d14d90e3e16cd6"
    }
   }
  }
 },
 "nbformat": 4,
 "nbformat_minor": 2,
 "cells": [
  {
   "cell_type": "code",
   "execution_count": 1,
   "metadata": {},
   "outputs": [],
   "source": [
    "#\n",
    "#       Theoretical approach 참조 : \n",
    "#       정보이론에서 엔트로피 값이 가장 높게 나오는 정규 분포에 관하여\n",
    "#       어떤 분표와 정규 분포에 대한 쿨백 라이블러 발산값 이용\n",
    "#\n",
    "#       \n",
    "#       2020.10.09\n",
    "#       Heesung Yang\n",
    "#       Statistical Test : Normality Test\n",
    "#\n",
    "#"
   ]
  },
  {
   "cell_type": "code",
   "execution_count": 13,
   "metadata": {},
   "outputs": [],
   "source": [
    "import scipy.stats as sst\n",
    "import numpy as np\n",
    "\n",
    "data1 = np.random.normal(0, 1, 100) # Gaussian\n",
    "data2 = np.random.rand(100)"
   ]
  },
  {
   "cell_type": "code",
   "execution_count": 14,
   "metadata": {},
   "outputs": [
    {
     "output_type": "stream",
     "name": "stdout",
     "text": [
      "stat = 0.984333, p = 0.284\nProbably Gaussian\n"
     ]
    }
   ],
   "source": [
    "stat, p = sst.shapiro(data1)\n",
    "print('stat = %3f, p = %.3f' % (stat, p))\n",
    "\n",
    "if p > 0.05:\n",
    "    print('Probably Gaussian')\n",
    "else :\n",
    "    print('Probably not Gaussian')"
   ]
  },
  {
   "cell_type": "code",
   "execution_count": 15,
   "metadata": {},
   "outputs": [
    {
     "output_type": "stream",
     "name": "stdout",
     "text": [
      "stat = 0.965049, p = 0.009\nProbably not Gaussian\n"
     ]
    }
   ],
   "source": [
    "stat, p = sst.shapiro(data2)\n",
    "print('stat = %3f, p = %.3f' % (stat, p))\n",
    "\n",
    "if p > 0.05:\n",
    "    print('Probably Gaussian')\n",
    "else :\n",
    "    print('Probably not Gaussian')"
   ]
  },
  {
   "cell_type": "code",
   "execution_count": 19,
   "metadata": {},
   "outputs": [
    {
     "output_type": "stream",
     "name": "stdout",
     "text": [
      "data1 ==> SkewtestResult(statistic=0.38926337360671864, pvalue=0.6970813274693569)\ndata2 ==> SkewtestResult(statistic=-0.4591659968307276, pvalue=0.6461149665561385)\n"
     ]
    }
   ],
   "source": [
    "# Skew Test\n",
    "print('data1 ==>', sst.skewtest(data1))\n",
    "print('data2 ==>', sst.skewtest(data2))"
   ]
  },
  {
   "cell_type": "code",
   "execution_count": 21,
   "metadata": {},
   "outputs": [
    {
     "output_type": "stream",
     "name": "stdout",
     "text": [
      "data1 ==> KurtosistestResult(statistic=1.578421601939467, pvalue=0.1144687857366519)\ndata2 ==> KurtosistestResult(statistic=-3.9620212982835517, pvalue=7.431790894649057e-05)\n"
     ]
    }
   ],
   "source": [
    "# Kurtosis Test\n",
    "print('data1 ==>', sst.kurtosistest(data1))\n",
    "print('data2 ==>', sst.kurtosistest(data2))"
   ]
  },
  {
   "cell_type": "code",
   "execution_count": null,
   "metadata": {},
   "outputs": [],
   "source": []
  }
 ]
}