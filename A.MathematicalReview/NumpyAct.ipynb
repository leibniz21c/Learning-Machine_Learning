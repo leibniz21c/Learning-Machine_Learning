{
 "metadata": {
  "language_info": {
   "codemirror_mode": {
    "name": "ipython",
    "version": 3
   },
   "file_extension": ".py",
   "mimetype": "text/x-python",
   "name": "python",
   "nbconvert_exporter": "python",
   "pygments_lexer": "ipython3",
   "version": "2.7.16-final"
  },
  "orig_nbformat": 2,
  "kernelspec": {
   "name": "python_defaultSpec_1599808725186",
   "display_name": "Python 2.7.16 64-bit"
  }
 },
 "nbformat": 4,
 "nbformat_minor": 2,
 "cells": [
  {
   "source": [
    "import numpy as np\n",
    "\n",
    "# 선형 데이터 선언\n",
    "vec = np.array([1, 2])\n",
    "mat = np.array([[1, 2],\n",
    "                [3, 4]])\n",
    "\n",
    "print(\"< 선언 출력 >\")\n",
    "print(vec)\n",
    "print(mat)"
   ],
   "cell_type": "code",
   "metadata": {
    "tags": []
   },
   "execution_count": 14,
   "outputs": [
    {
     "output_type": "stream",
     "name": "stdout",
     "text": "< 선언 출력 >\n[1 2]\n[[1 2]\n [3 4]]\n"
    }
   ]
  },
  {
   "source": [
    "# 속성값\n",
    "print(\"< 속성값 출력 >\")\n",
    "print(np.linalg.norm(vec)) # 2차 노름\n",
    "print(np.linalg.norm(mat)) # 프로베니우스 노름\n",
    "\n",
    "print(vec.shape) # 차원 : 행벡터\n",
    "print(mat.shape) # 차원 : 메트릭스\n"
   ],
   "cell_type": "code",
   "metadata": {
    "tags": []
   },
   "execution_count": 17,
   "outputs": [
    {
     "output_type": "stream",
     "name": "stdout",
     "text": "< 속성값 출력 >\n2.2360679775\n5.47722557505\n(2,)\n(2, 2)\n"
    }
   ]
  },
  {
   "cell_type": "code",
   "execution_count": 21,
   "metadata": {
    "tags": []
   },
   "outputs": [
    {
     "output_type": "error",
     "ename": "SyntaxError",
     "evalue": "invalid syntax (<ipython-input-21-ecda8454fc5e>, line 5)",
     "traceback": [
      "\u001b[0;36m  File \u001b[0;32m\"<ipython-input-21-ecda8454fc5e>\"\u001b[0;36m, line \u001b[0;32m5\u001b[0m\n\u001b[0;31m    print(x.T@y)\u001b[0m\n\u001b[0m             ^\u001b[0m\n\u001b[0;31mSyntaxError\u001b[0m\u001b[0;31m:\u001b[0m invalid syntax\n"
     ]
    }
   ],
   "source": [
    "# 연산\n",
    "x = np.array([1, 2])\n",
    "y = np.array([3, 4])\n",
    "\n",
    "print()\n"
   ]
  },
  {
   "cell_type": "code",
   "execution_count": null,
   "metadata": {},
   "outputs": [],
   "source": []
  }
 ]
}