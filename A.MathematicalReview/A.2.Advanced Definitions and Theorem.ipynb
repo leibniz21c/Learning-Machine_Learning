{
 "metadata": {
  "language_info": {
   "codemirror_mode": {
    "name": "ipython",
    "version": 3
   },
   "file_extension": ".py",
   "mimetype": "text/x-python",
   "name": "python",
   "nbconvert_exporter": "python",
   "pygments_lexer": "ipython3",
   "version": 3
  },
  "orig_nbformat": 2
 },
 "nbformat": 4,
 "nbformat_minor": 2,
 "cells": [
  {
   "cell_type": "markdown",
   "metadata": {},
   "source": [
    "# Appendix. Mathematical Review\n",
    "---\n",
    "### A.2. Advanced Definitions and Theorems\n",
    "#### Def:A.2.1 Gradient of a scalar function with respect to a vector\n"
   ]
  },
  {
   "cell_type": "markdown",
   "metadata": {},
   "source": [
    "#### Def:A.2.2 Hessian matrix of a scalar function with respect to a vector\n"
   ]
  },
  {
   "cell_type": "code",
   "execution_count": null,
   "metadata": {},
   "outputs": [],
   "source": []
  },
  {
   "cell_type": "markdown",
   "metadata": {},
   "source": [
    "Reference :<br>\n",
    "Deep Learning - Yosha Benjio<br>\n",
    "proofwiki.org"
   ]
  }
 ]
}