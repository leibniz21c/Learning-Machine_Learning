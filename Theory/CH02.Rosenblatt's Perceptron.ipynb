{
 "metadata": {
  "language_info": {
   "codemirror_mode": {
    "name": "ipython",
    "version": 3
   },
   "file_extension": ".py",
   "mimetype": "text/x-python",
   "name": "python",
   "nbconvert_exporter": "python",
   "pygments_lexer": "ipython3",
   "version": 3
  },
  "orig_nbformat": 2
 },
 "nbformat": 4,
 "nbformat_minor": 2,
 "cells": [
  {
   "source": [
    "# Chapter.02 Rosenblatt's Perceptron\n",
    "---"
   ],
   "cell_type": "markdown",
   "metadata": {}
  },
  {
   "source": [
    "### 2.1 Rosenblatt's Perceptron\n",
    "2.1.1. Overview<br>\n",
    "\n",
    "1. The first model/algorithm for supervised learning, in <strong>1957</strong> \n",
    "2. Single-layer single-output neural network for binary classification of <strong>linearly separable</strong> patterns"
   ],
   "cell_type": "markdown",
   "metadata": {}
  },
  {
   "source": [
    "2.1.2. Activation function : Sign function(threshold function)\n",
    "\n",
    "$$\n",
    "\\varphi(x) = \n",
    "\\begin{cases}\n",
    "+1, \\quad if \\,\\ x > 0 \\\\\n",
    "-1, \\quad if \\,\\ x < 0 \\\\\n",
    "\\end{cases}\n",
    "$$\n",
    "\n",
    "2.1.3. Network Architecture<br>\n",
    "- Basic model :\n",
    "\n",
    "- Compact model : \n",
    "\n",
    "2.1.4. Assumption <br>"
   ],
   "cell_type": "markdown",
   "metadata": {}
  },
  {
   "cell_type": "code",
   "execution_count": null,
   "metadata": {},
   "outputs": [],
   "source": []
  }
 ]
}