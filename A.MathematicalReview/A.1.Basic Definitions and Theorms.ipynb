{
 "metadata": {
  "language_info": {
   "codemirror_mode": {
    "name": "ipython",
    "version": 3
   },
   "file_extension": ".py",
   "mimetype": "text/x-python",
   "name": "python",
   "nbconvert_exporter": "python",
   "pygments_lexer": "ipython3",
   "version": 3
  },
  "orig_nbformat": 2
 },
 "nbformat": 4,
 "nbformat_minor": 2,
 "cells": [
  {
   "cell_type": "markdown",
   "metadata": {},
   "source": [
    "# Appendix. Mathematical Review\n",
    "---\n",
    "### A.1. Basic Definitions and Theorems\n",
    "#### Def:A.1.1 p-norm\n",
    "$$ \\left \\| \\mathbf{x} \\right \\| = (\\sum_{i} \\left | x_i \\right |^p)^\\frac{1}{p}$$\n",
    ",which is called p-norm.\n",
    "\n",
    "<br><br>\n",
    "\n",
    "#### Def:A.1.2 Infinite-norm of the vector\n",
    "$$ \\left \\| \\mathbf{x} \\right \\|_\\infty = \\max_i \\left | x_i \\right | $$\n",
    "\n",
    "#### Def:A.1.3 0-norm of the vector\n",
    "$$ \\left \\| \\mathbf{x} \\right \\|_0 = numbers \\,\\ of \\,\\ nonzero \\,\\ x_i $$"
   ]
  },
  {
   "cell_type": "markdown",
   "metadata": {},
   "source": [
    "#### Def:A.1.4 Frobenius norm of the matrix\n",
    "$$ \\left \\| \\boldsymbol{\\mathbf{X}} \\right \\|_F = \\sqrt{Tr(X^TX)} = \\sqrt{Tr(XX^T)} = \\sum_{i=1}^{m} \\sum_{j=1}^{n} x_{ij}^2 $$"
   ]
  },
  {
   "cell_type": "markdown",
   "metadata": {},
   "source": [
    "#### Def:A.1.5 Definite positive\n",
    "A symmetric $n \\times n$ real matrix $M$ is said to be positive definite if the scalar $\\mathbf{z}^TM\\mathbf{z}$ is positive for every non-zero column vector $\\mathbf{z}$ of n real numbers. It can be written\n",
    "$$ X\\prec\\mathbf{0} $$"
   ]
  },
  {
   "cell_type": "markdown",
   "metadata": {},
   "source": [
    "#### Def:A.1.6 Semi-Definite positive\n",
    "A symmetric $n \\times n$ real matrix $M$ is said to be semi-positive definite if the scalar $\\mathbf{z}^TM\\mathbf{z}$ isn't negative for every non-zero column vector $\\mathbf{z}$ of n real numbers. It can be written\n",
    "$$ X\\preceq\\mathbf{0} $$"
   ]
  },
  {
   "cell_type": "markdown",
   "metadata": {},
   "source": [
    "#### Def:A.1.7 Inner product of vectors\n",
    "Let vectors $\\mathbf{w}$ and $\\mathbf{x}$ be $n\\times 1$ vector.<br>\n",
    "$\\mathbf{w}^T\\mathbf{x}$ is called inner product of vectors.<br>\n",
    "\n",
    "$ \\mathbf{w}^T\\mathbf{x} = $ $ \\begin{bmatrix}\n",
    "w_1 & w_2 & \\cdots & w_n \n",
    "\\end{bmatrix} $ $ \\begin{bmatrix}\n",
    "x_1 \\\\\n",
    "x_2 \\\\\n",
    "\\vdots \\\\\n",
    "x_n \\\\\n",
    "\\end{bmatrix} = $ $ \\sum_{i=1}^{n} w_ix_i $\n"
   ]
  },
  {
   "cell_type": "markdown",
   "metadata": {},
   "source": [
    "#### Def:A.1.8 Outter product of vectors\n",
    "Let vectors $\\mathbf{w}$ and $\\mathbf{x}$ be $n \\times 1$ vectors.<br>\n",
    "$\\mathbf{x}\\mathbf{w}^T$ is called outter product of vectors.<br>\n",
    "\n",
    "$ \\mathbf{x}\\mathbf{w}^T = $ $ \\begin{bmatrix} \n",
    "x_1 \\\\\n",
    "x_2 \\\\\n",
    "\\vdots \\\\\n",
    "x_n \\\\\n",
    "\\end{bmatrix} $ $ \\begin{bmatrix} w_1 & w_2 & \\cdots & w_n \\end{bmatrix} = $ $ \\begin{bmatrix} \n",
    "x_1\\mathbf{w}^T \\\\\n",
    "x_2\\mathbf{w}^T \\\\\n",
    "\\vdots \\\\\n",
    "x_n\\mathbf{w}^T \\\\\n",
    "\\end{bmatrix} = $ $ \\begin{bmatrix}\n",
    " x_1w_1 & x_1w_2 & \\cdots & x_1w_n \\\\\n",
    " x_2w_1 & x_2w_2 & \\cdots & x_2w_n \\\\\n",
    " \\vdots & \\vdots & \\ddots & \\vdots \\\\\n",
    " x_nw_1 & x_nw_2 & \\cdots & x_nw_n \\\\\n",
    " \\end{bmatrix} $ \n",
    "\n",
    "\n"
   ]
  },
  {
   "cell_type": "markdown",
   "metadata": {},
   "source": [
    "#### Def:A.1.9 Matirix-vector multiplication\n",
    "Let the matrix $W$ be a $m \\times n$ matrix and the vector $\\mathbf{x}$ be a $n \\times 1$ vector.\n",
    "$$ W\\mathbf{x} = \\begin{bmatrix} \\mathbf{w}_1 & \\mathbf{w}_2 & \\cdots & \\mathbf{w}_n \\end{bmatrix} \\begin{bmatrix} x_1 \\\\ x_2 \\\\ \\vdots \\\\ x_n \\end{bmatrix} = \\sum_{i=1}^{n} \\mathbf{W}_ix_i \\,\\ \\cdots \\,\\ (1)$$\n",
    "$$ W\\mathbf{x} = \\begin{bmatrix} \\bar{\\mathbf{w}_1}^T \\\\ \\bar{\\mathbf{w}_2}^T \\\\ \\vdots \\\\ \\bar{\\mathbf{w}_m}^T \\end{bmatrix}\\mathbf{x} = \\begin{bmatrix} \\bar{\\mathbf{w}_1}^T\\mathbf{x} \\\\ \\bar{\\mathbf{w}_2}^T\\mathbf{x} \\\\ \\vdots \\\\ \\bar{\\mathbf{w}_m}^T\\mathbf{x} \\end{bmatrix} = \\begin{bmatrix} \\sum_{i=1}^{n} w_{1i}x_i \\\\ \\sum_{i=1}^{n} w_{2i}x_i \\\\ \\vdots \\\\ \\sum_{i=1}^{n} w_{mi}x_i \\end{bmatrix}  \\,\\ \\cdots \\,\\ (2)$$"
   ]
  },
  {
   "cell_type": "markdown",
   "metadata": {},
   "source": [
    "Reference :<br>\n",
    "Deep Learning - Yosha Benjio<br>\n",
    "proofwiki.org"
   ]
  },
  {
   "cell_type": "code",
   "execution_count": null,
   "metadata": {},
   "outputs": [],
   "source": []
  }
 ]
}