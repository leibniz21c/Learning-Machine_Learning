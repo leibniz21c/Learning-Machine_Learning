{
 "metadata": {
  "language_info": {
   "codemirror_mode": {
    "name": "ipython",
    "version": 3
   },
   "file_extension": ".py",
   "mimetype": "text/x-python",
   "name": "python",
   "nbconvert_exporter": "python",
   "pygments_lexer": "ipython3",
   "version": 3
  },
  "orig_nbformat": 2
 },
 "nbformat": 4,
 "nbformat_minor": 2,
 "cells": [
  {
   "source": [
    "# Appendix.05 Review of Advanced Calculus\n",
    "---"
   ],
   "cell_type": "markdown",
   "metadata": {}
  },
  {
   "cell_type": "code",
   "execution_count": null,
   "metadata": {},
   "outputs": [],
   "source": []
  },
  {
   "cell_type": "code",
   "execution_count": null,
   "metadata": {},
   "outputs": [],
   "source": []
  },
  {
   "cell_type": "code",
   "execution_count": null,
   "metadata": {},
   "outputs": [],
   "source": []
  },
  {
   "source": [
    "<strong>Reference</strong><br>\n",
    "A. Hjørungnes and D. Gesbert, “Complex-valued matrix differentiations: Techniques and key results,” IEEE Trans. Signal Process., vol. 55, no. 6, pp. 2740–2746, Jun. 2007"
   ],
   "cell_type": "markdown",
   "metadata": {}
  }
 ]
}