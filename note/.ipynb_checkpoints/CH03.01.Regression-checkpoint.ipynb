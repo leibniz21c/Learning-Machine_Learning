{
 "cells": [
  {
   "cell_type": "markdown",
   "metadata": {},
   "source": [
    "# Chapter.03 Regression\n",
    "---"
   ]
  },
  {
   "cell_type": "markdown",
   "metadata": {},
   "source": [
    "### 3.1. Regressive and approximated models\n",
    "3.1.1. General regressive model\n",
    "\n",
    "<img src=\"./res/ch03/fig_3_1.png\" width=\"700\" height=\"200\"><br>\n",
    "<div align=\"center\">\n",
    "  Figure.3.1.1\n",
    "</div>\n",
    "<br>"
   ]
  },
  {
   "cell_type": "markdown",
   "metadata": {},
   "source": [
    "3.1.2. Approximated model\n",
    "\n",
    "<img src=\"./res/ch03/fig_3_2.png\" width=\"700\" height=\"110\"><br>\n",
    "<div align=\"center\">\n",
    "  Figure.3.1.2\n",
    "</div>\n",
    "<br>\n",
    "\n",
    "I want to find a function $\\hat{f}(\\mathbf{x}; D)$ that approximates the true function $f(\\mathbf{x})$ as well as possible in terms of the mean square error (MSE) between them, by means of some learning algorithm based on a training dataset (sample)"
   ]
  }
 ],
 "metadata": {
  "kernelspec": {
   "display_name": "Python 3",
   "language": "python",
   "name": "python3"
  },
  "language_info": {
   "codemirror_mode": {
    "name": "ipython",
    "version": 3
   },
   "file_extension": ".py",
   "mimetype": "text/x-python",
   "name": "python",
   "nbconvert_exporter": "python",
   "pygments_lexer": "ipython3",
   "version": "3.8.2"
  }
 },
 "nbformat": 4,
 "nbformat_minor": 4
}
