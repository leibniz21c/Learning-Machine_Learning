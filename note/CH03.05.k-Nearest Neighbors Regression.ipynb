{
 "metadata": {
  "language_info": {
   "codemirror_mode": {
    "name": "ipython",
    "version": 3
   },
   "file_extension": ".py",
   "mimetype": "text/x-python",
   "name": "python",
   "nbconvert_exporter": "python",
   "pygments_lexer": "ipython3",
   "version": "3.8.2-final"
  },
  "orig_nbformat": 2,
  "kernelspec": {
   "name": "python3",
   "display_name": "Python 3.8.2 64-bit",
   "metadata": {
    "interpreter": {
     "hash": "5edc29c2ed010d6458d71a83433b383a96a8cbd3efe8531bc90c4b8a5b8bcec9"
    }
   }
  }
 },
 "nbformat": 4,
 "nbformat_minor": 2,
 "cells": [
  {
   "source": [
    "# Chapter.03 Regression\n",
    "---"
   ],
   "cell_type": "markdown",
   "metadata": {}
  },
  {
   "source": [
    "### 3.5. $k$-Nearest Neighbors($k$-NN) regression\n",
    "3.5.1. $k$-NN regression<br>\n",
    "\n",
    "- The value of an object $\\mathbf{x}$ is predicted as a function (e.g., average) of the values of its $k$ neighbors. \n",
    "- If only training data is stored in a memory without performing any learning process, then this method is called __lazy learning__.\n",
    "- Many distance metric can be used. (e.g., Euclid, p-norm, Mahalanobis, and so on.)\n",
    "<br><br>\n",
    "\n",
    "$\\text{Regression via averaging} : $<br>\n",
    "$$ \\hat{y} = \\frac{1}{k} \\sum_{i = 1}^{k} y_i \\qquad y_i \\,\\ \\text{is lable of} \\,\\ x_i.$$"
   ],
   "cell_type": "markdown",
   "metadata": {}
  },
  {
   "source": [
    "3.5.2. $k$-NN classfication<br>\n",
    "\n",
    "- An object $\\mathbf{x}$ is classified by a majority vote of its $k$ neighbors; Assigning the most common class among its $k$ training sata.\n",
    "- Lazy learning\n",
    "- Many distance metric can be used too. (e.g., Euclid, p-norm, Mahalanobis, and so on.)<br><br>\n",
    "\n",
    "$\\text{Classification via majority vote} : $<br>\n",
    "$$ \\hat{y} = \\underset{k}{\\arg \\max} |S_k| \\quad \\text{where} \\,\\ S_k = \\{y_i = k\\}, \\,\\ y_i \\,\\ \\text{is lable of} \\,\\ x_i.$$"
   ],
   "cell_type": "markdown",
   "metadata": {}
  }
 ]
}